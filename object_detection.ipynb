{
  "nbformat": 4,
  "nbformat_minor": 0,
  "metadata": {
    "colab": {
      "provenance": [],
      "authorship_tag": "ABX9TyNtkKWvlf45FjR9iR1fjFou",
      "include_colab_link": true
    },
    "kernelspec": {
      "name": "python3",
      "display_name": "Python 3"
    },
    "language_info": {
      "name": "python"
    }
  },
  "cells": [
    {
      "cell_type": "markdown",
      "metadata": {
        "id": "view-in-github",
        "colab_type": "text"
      },
      "source": [
        "<a href=\"https://colab.research.google.com/github/Phionanamugga/Autonomous_Navigation/blob/main/object_detection.ipynb\" target=\"_parent\"><img src=\"https://colab.research.google.com/assets/colab-badge.svg\" alt=\"Open In Colab\"/></a>"
      ]
    },
    {
      "cell_type": "code",
      "execution_count": 2,
      "metadata": {
        "id": "s9w5ieV37CFB"
      },
      "outputs": [],
      "source": [
        "import cv2\n",
        "import torch\n",
        "from ultralytics import YOLO\n",
        "import numpy as np\n",
        "from deep_sort_realtime.deepsort_tracker import DeepSort\n",
        "import time\n",
        "import supervision as sv"
      ]
    },
    {
      "cell_type": "code",
      "source": [
        "# Load YOLOv8 model\n",
        "model = YOLO('yolov8n.pt')  # Pre-trained YOLOv8 nano model"
      ],
      "metadata": {
        "colab": {
          "base_uri": "https://localhost:8080/"
        },
        "id": "0wPMNJeL_jii",
        "outputId": "d6ee609a-5062-40f4-8d01-4c6738cbbf87"
      },
      "execution_count": 3,
      "outputs": [
        {
          "output_type": "stream",
          "name": "stderr",
          "text": [
            "Downloading https://github.com/ultralytics/assets/releases/download/v8.3.0/yolov8n.pt to 'yolov8n.pt': 100%|██████████| 6.25M/6.25M [00:00<00:00, 49.1MB/s]\n"
          ]
        }
      ]
    },
    {
      "cell_type": "code",
      "source": [
        "# Initialize DeepSORT tracker\n",
        "tracker = DeepSort(max_age=30, nn_budget=100, nms_max_overlap=1.0)"
      ],
      "metadata": {
        "id": "gn1lRTUl_5Me"
      },
      "execution_count": 4,
      "outputs": []
    },
    {
      "cell_type": "code",
      "source": [
        "# Initialize video capture (replace with your video file or camera)\n",
        "cap = cv2.VideoCapture('sample_traffic_video.mp4')"
      ],
      "metadata": {
        "id": "govAmp1yAIou"
      },
      "execution_count": 5,
      "outputs": []
    }
  ]
}