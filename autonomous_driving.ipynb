{
  "nbformat": 4,
  "nbformat_minor": 0,
  "metadata": {
    "colab": {
      "provenance": [],
      "authorship_tag": "ABX9TyN4pgIN8C4IQ+uUohMxTT33",
      "include_colab_link": true
    },
    "kernelspec": {
      "name": "python3",
      "display_name": "Python 3"
    },
    "language_info": {
      "name": "python"
    }
  },
  "cells": [
    {
      "cell_type": "markdown",
      "metadata": {
        "id": "view-in-github",
        "colab_type": "text"
      },
      "source": [
        "<a href=\"https://colab.research.google.com/github/Phionanamugga/Autonomous_Navigation/blob/main/autonomous_driving.ipynb\" target=\"_parent\"><img src=\"https://colab.research.google.com/assets/colab-badge.svg\" alt=\"Open In Colab\"/></a>"
      ]
    },
    {
      "cell_type": "code",
      "execution_count": 1,
      "metadata": {
        "id": "LR8li5sJYQKf"
      },
      "outputs": [],
      "source": [
        "from fastapi import FastAPI\n",
        "\n",
        "app = FastAPI()\n",
        "\n",
        "@app.get(\"/status\")\n",
        "def status():\n",
        "    return {\"status\": \"ok\", \"battery\": 95, \"position\": [0, 0]}\n",
        "\n",
        "@app.post(\"/move\")\n",
        "def move(direction: str):\n",
        "    return {\"message\": f\"Moving {direction}\"}\n"
      ]
    },
    {
      "cell_type": "code",
      "source": [
        "class PIDController:\n",
        "    def __init__(self, kp, ki, kd):\n",
        "        self.kp, self.ki, self.kd = kp, ki, kd\n",
        "        self.prev_error, self.integral = 0, 0\n",
        "\n",
        "    def update(self, error, dt):\n",
        "        self.integral += error * dt\n",
        "        derivative = (error - self.prev_error) / dt\n",
        "        output = self.kp * error + self.ki * self.integral + self.kd * derivative\n",
        "        self.prev_error = error\n",
        "        return output\n"
      ],
      "metadata": {
        "id": "5uf_2b8HayLj"
      },
      "execution_count": 2,
      "outputs": []
    }
  ]
}