{
  "nbformat": 4,
  "nbformat_minor": 0,
  "metadata": {
    "colab": {
      "provenance": [],
      "authorship_tag": "ABX9TyMRMx1GzQZmXFu2PvIrcXon",
      "include_colab_link": true
    },
    "kernelspec": {
      "name": "python3",
      "display_name": "Python 3"
    },
    "language_info": {
      "name": "python"
    }
  },
  "cells": [
    {
      "cell_type": "markdown",
      "metadata": {
        "id": "view-in-github",
        "colab_type": "text"
      },
      "source": [
        "<a href=\"https://colab.research.google.com/github/Phionanamugga/Autonomous_Navigation/blob/main/autonomous_driving.ipynb\" target=\"_parent\"><img src=\"https://colab.research.google.com/assets/colab-badge.svg\" alt=\"Open In Colab\"/></a>"
      ]
    },
    {
      "cell_type": "code",
      "execution_count": 1,
      "metadata": {
        "id": "LR8li5sJYQKf"
      },
      "outputs": [],
      "source": [
        "from fastapi import FastAPI\n",
        "\n",
        "app = FastAPI()\n",
        "\n",
        "@app.get(\"/status\")\n",
        "def status():\n",
        "    return {\"status\": \"ok\", \"battery\": 95, \"position\": [0, 0]}\n",
        "\n",
        "@app.post(\"/move\")\n",
        "def move(direction: str):\n",
        "    return {\"message\": f\"Moving {direction}\"}\n"
      ]
    },
    {
      "cell_type": "code",
      "source": [
        "class PIDController:\n",
        "    def __init__(self, kp, ki, kd):\n",
        "        self.kp, self.ki, self.kd = kp, ki, kd\n",
        "        self.prev_error, self.integral = 0, 0\n",
        "\n",
        "    def update(self, error, dt):\n",
        "        self.integral += error * dt\n",
        "        derivative = (error - self.prev_error) / dt\n",
        "        output = self.kp * error + self.ki * self.integral + self.kd * derivative\n",
        "        self.prev_error = error\n",
        "        return output\n"
      ],
      "metadata": {
        "id": "5uf_2b8HayLj"
      },
      "execution_count": 2,
      "outputs": []
    },
    {
      "cell_type": "code",
      "source": [
        "import heapq\n",
        "\n",
        "def heuristic(a, b):\n",
        "    return abs(b[0]-a[0]) + abs(b[1]-a[1])\n",
        "\n",
        "def astar(grid, start, goal):\n",
        "    neighbors = [(0,1),(0,-1),(1,0),(-1,0)]\n",
        "    close_set = set()\n",
        "    came_from = {}\n",
        "    gscore = {start: 0}\n",
        "    fscore = {start: heuristic(start, goal)}\n",
        "    oheap = []\n",
        "    heapq.heappush(oheap, (fscore[start], start))\n",
        "\n",
        "    while oheap:\n",
        "        current = heapq.heappop(oheap)[1]\n",
        "        if current == goal:\n",
        "            path = []\n",
        "            while current in came_from:\n",
        "                path.append(current)\n",
        "                current = came_from[current]\n",
        "            return path[::-1]\n",
        "        close_set.add(current)\n",
        "        for i, j in neighbors:\n",
        "            neighbor = current[0]+i, current[1]+j\n",
        "            tentative_g_score = gscore[current] + 1\n",
        "            if 0 <= neighbor[0] < len(grid) and 0 <= neighbor[1] < len(grid[0]):\n",
        "                if grid[neighbor[0]][neighbor[1]] == 1:\n",
        "                    continue\n",
        "            else:\n",
        "                continue\n",
        "            if neighbor in close_set and tentative_g_score >= gscore.get(neighbor, 0):\n",
        "                continue\n",
        "            if tentative_g_score < gscore.get(neighbor, 0) or neighbor not in [i[1] for i in oheap]:\n",
        "                came_from[neighbor] = current\n",
        "                gscore[neighbor] = tentative_g_score\n",
        "                fscore[neighbor] = tentative_g_score + heuristic(neighbor, goal)\n",
        "                heapq.heappush(oheap, (fscore[neighbor], neighbor))\n",
        "    return False"
      ],
      "metadata": {
        "id": "KZOZEj3Wa4n_"
      },
      "execution_count": 3,
      "outputs": []
    },
    {
      "cell_type": "code",
      "source": [
        "#!/usr/bin/env python3\n",
        "# ROS node skeleton for integrating all modules\n",
        "import rospy\n",
        "from geometry_msgs.msg import Twist\n",
        "\n",
        "def main():\n",
        "    rospy.init_node('controller_node')\n",
        "    pub = rospy.Publisher('/cmd_vel', Twist, queue_size=10)\n",
        "    rate = rospy.Rate(10)\n",
        "\n",
        "    while not rospy.is_shutdown():\n",
        "        twist = Twist()\n",
        "        twist.linear.x = 0.1\n",
        "        pub.publish(twist)\n",
        "        rate.sleep()\n",
        "\n",
        "if __name__ == \"__main__\":\n",
        "    main()\n"
      ],
      "metadata": {
        "id": "iLlZOcB2clMO"
      },
      "execution_count": null,
      "outputs": []
    }
  ]
}