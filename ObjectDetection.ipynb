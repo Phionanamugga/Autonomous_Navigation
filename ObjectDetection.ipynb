{
  "nbformat": 4,
  "nbformat_minor": 0,
  "metadata": {
    "colab": {
      "provenance": [],
      "gpuType": "V28",
      "authorship_tag": "ABX9TyMkp951I1aFcDnxo9tQdfwP",
      "include_colab_link": true
    },
    "kernelspec": {
      "name": "python3",
      "display_name": "Python 3"
    },
    "language_info": {
      "name": "python"
    },
    "accelerator": "TPU"
  },
  "cells": [
    {
      "cell_type": "markdown",
      "metadata": {
        "id": "view-in-github",
        "colab_type": "text"
      },
      "source": [
        "<a href=\"https://colab.research.google.com/github/Phionanamugga/Autonomous_Navigation/blob/main/ObjectDetection.ipynb\" target=\"_parent\"><img src=\"https://colab.research.google.com/assets/colab-badge.svg\" alt=\"Open In Colab\"/></a>"
      ]
    },
    {
      "cell_type": "code",
      "source": [
        "!wget -c https://s3.eu-central-1.amazonaws.com/avg-kitti/raw_data/2011_10_03_drive_0047/2011_10_03_drive_0047_sync.zip\n"
      ],
      "metadata": {
        "colab": {
          "base_uri": "https://localhost:8080/"
        },
        "id": "gcw_teOI3vL5",
        "outputId": "e7026e5f-05df-4575-bbdb-dcafd619adda"
      },
      "execution_count": 1,
      "outputs": [
        {
          "output_type": "stream",
          "name": "stdout",
          "text": [
            "--2025-08-09 17:14:32--  https://s3.eu-central-1.amazonaws.com/avg-kitti/raw_data/2011_10_03_drive_0047/2011_10_03_drive_0047_sync.zip\n",
            "Resolving s3.eu-central-1.amazonaws.com (s3.eu-central-1.amazonaws.com)... 3.5.134.84, 52.219.169.37, 3.5.139.177, ...\n",
            "Connecting to s3.eu-central-1.amazonaws.com (s3.eu-central-1.amazonaws.com)|3.5.134.84|:443... connected.\n",
            "HTTP request sent, awaiting response... 200 OK\n",
            "Length: 3103291675 (2.9G) [application/zip]\n",
            "Saving to: ‘2011_10_03_drive_0047_sync.zip’\n",
            "\n",
            "2011_10_03_drive_00 100%[===================>]   2.89G  14.0MB/s    in 1m 45s  \n",
            "\n",
            "2025-08-09 17:16:19 (28.1 MB/s) - ‘2011_10_03_drive_0047_sync.zip’ saved [3103291675/3103291675]\n",
            "\n"
          ]
        }
      ]
    },
    {
      "cell_type": "code",
      "source": [
        "!wget -c https://s3.eu-central-1.amazonaws.com/avg-kitti/raw_data/2011_10_03_calib.zip"
      ],
      "metadata": {
        "colab": {
          "base_uri": "https://localhost:8080/"
        },
        "id": "5SM7RVFf13pQ",
        "outputId": "cb2dbabe-293c-4bc2-a2db-d7dd12bc110f"
      },
      "execution_count": 2,
      "outputs": [
        {
          "output_type": "stream",
          "name": "stdout",
          "text": [
            "--2025-08-09 17:20:17--  https://s3.eu-central-1.amazonaws.com/avg-kitti/raw_data/2011_10_03_calib.zip\n",
            "Resolving s3.eu-central-1.amazonaws.com (s3.eu-central-1.amazonaws.com)... 52.219.75.83, 52.219.46.91, 3.5.138.16, ...\n",
            "Connecting to s3.eu-central-1.amazonaws.com (s3.eu-central-1.amazonaws.com)|52.219.75.83|:443... connected.\n",
            "HTTP request sent, awaiting response... 200 OK\n",
            "Length: 4075 (4.0K) [application/zip]\n",
            "Saving to: ‘2011_10_03_calib.zip’\n",
            "\n",
            "2011_10_03_calib.zi 100%[===================>]   3.98K  --.-KB/s    in 0s      \n",
            "\n",
            "2025-08-09 17:20:17 (309 MB/s) - ‘2011_10_03_calib.zip’ saved [4075/4075]\n",
            "\n"
          ]
        }
      ]
    },
    {
      "cell_type": "code",
      "source": [
        "!unzip -q '*.zip'"
      ],
      "metadata": {
        "colab": {
          "base_uri": "https://localhost:8080/"
        },
        "id": "wcTFponY6yBF",
        "outputId": "eaa2a9de-8543-49e2-f1a3-37a7c5a75d04"
      },
      "execution_count": 3,
      "outputs": [
        {
          "output_type": "stream",
          "name": "stdout",
          "text": [
            "\n",
            "2 archives were successfully processed.\n"
          ]
        }
      ]
    },
    {
      "cell_type": "code",
      "source": [
        "import os\n",
        "from glob import glob\n",
        "import numpy as np\n",
        "import matplotlib.pyplot as plt\n",
        "import cv2\n",
        "from PIL import Image\n",
        "import pandas as pd\n",
        "import torch\n"
      ],
      "metadata": {
        "id": "irhY6V487csY"
      },
      "execution_count": 4,
      "outputs": []
    },
    {
      "cell_type": "code",
      "source": [
        "%matplotlib inline\n",
        "plt.rcParams['figure.figsize'] = (20, 10)"
      ],
      "metadata": {
        "id": "FDoBig6E29pr"
      },
      "execution_count": 5,
      "outputs": []
    },
    {
      "cell_type": "code",
      "source": [
        "!wget https://github.com/itberrios/CV_tracking/raw/main/kitti_tracker/kitti_utils.py"
      ],
      "metadata": {
        "colab": {
          "base_uri": "https://localhost:8080/"
        },
        "id": "ExpcHW5Q3Mwq",
        "outputId": "1bbfdf2d-6525-41a0-bde3-e529ca9f68b8"
      },
      "execution_count": 6,
      "outputs": [
        {
          "output_type": "stream",
          "name": "stdout",
          "text": [
            "--2025-08-09 17:27:35--  https://github.com/itberrios/CV_tracking/raw/main/kitti_tracker/kitti_utils.py\n",
            "Resolving github.com (github.com)... 140.82.114.4\n",
            "Connecting to github.com (github.com)|140.82.114.4|:443... connected.\n",
            "HTTP request sent, awaiting response... 302 Found\n",
            "Location: https://raw.githubusercontent.com/itberrios/CV_tracking/main/kitti_tracker/kitti_utils.py [following]\n",
            "--2025-08-09 17:27:35--  https://raw.githubusercontent.com/itberrios/CV_tracking/main/kitti_tracker/kitti_utils.py\n",
            "Resolving raw.githubusercontent.com (raw.githubusercontent.com)... 185.199.108.133, 185.199.109.133, 185.199.110.133, ...\n",
            "Connecting to raw.githubusercontent.com (raw.githubusercontent.com)|185.199.108.133|:443... connected.\n",
            "HTTP request sent, awaiting response... 200 OK\n",
            "Length: 9759 (9.5K) [text/plain]\n",
            "Saving to: ‘kitti_utils.py’\n",
            "\n",
            "kitti_utils.py      100%[===================>]   9.53K  --.-KB/s    in 0s      \n",
            "\n",
            "2025-08-09 17:27:35 (22.8 MB/s) - ‘kitti_utils.py’ saved [9759/9759]\n",
            "\n"
          ]
        }
      ]
    },
    {
      "cell_type": "markdown",
      "source": [],
      "metadata": {
        "id": "ZNOm2_613A27"
      }
    },
    {
      "cell_type": "code",
      "source": [
        "DATA_PATH = r'2011_10_03/2011_10_03_drive_0047_sync'\n",
        "# get RGB camera data\n",
        "left_image_paths = sorted(glob(os.path.join(DATA_PATH, 'image_02/data/*png')))\n",
        "right_image_paths = sorted(glob(os.path.join(DATA_PATH, 'image_03/data/*png')))\n",
        "\n",
        "# getting LiDAR data\n",
        "bin_paths = sorted(glob(os.path.join(DATA_PATH, 'velodyne_points/data/*bin')))\n",
        "\n",
        "# Get GPS/IMU data\n",
        "oxts_paths = sorted(glob(os.path.join(DATA_PATH, r'oxts/data/*txt')))\n",
        "\n",
        "print(f'Number of RGB images: {len(left_image_paths)}')\n",
        "print(f'Number of RGB images: {len(right_image_paths)}')\n",
        "print(f'Number of LiDAR points: {len(bin_paths)}')\n",
        "print(f'Number of GPS/IMU data: {len(oxts_paths)}')"
      ],
      "metadata": {
        "colab": {
          "base_uri": "https://localhost:8080/"
        },
        "id": "zUCQmZkl4HBn",
        "outputId": "3697d13b-717c-4b6e-8010-b2c7ad880beb"
      },
      "execution_count": 7,
      "outputs": [
        {
          "output_type": "stream",
          "name": "stdout",
          "text": [
            "Number of RGB images: 837\n",
            "Number of RGB images: 837\n",
            "Number of LiDAR points: 837\n",
            "Number of GPS/IMU data: 837\n"
          ]
        }
      ]
    },
    {
      "cell_type": "code",
      "source": [
        "import mmcv\n",
        "print(mmcv.__version__)  # Should print 2.1.0\n",
        "import mmdet\n",
        "import mmdet3d\n",
        "print(mmdet.__version__, mmdet3d.__version__)  # Should print 3.3.0, 1.4.0"
      ],
      "metadata": {
        "id": "lt_AhmoaXI1N"
      },
      "execution_count": null,
      "outputs": []
    },
    {
      "cell_type": "code",
      "source": [
        "from mmdet3d.datasets import build_dataset\n",
        "cfg.data.train.data_root = './data/kitti/'\n",
        "dataset = build_dataset(cfg.data.train)"
      ],
      "metadata": {
        "id": "3P564p55Zc6x"
      },
      "execution_count": null,
      "outputs": []
    },
    {
      "cell_type": "code",
      "source": [],
      "metadata": {
        "id": "8Nxv3MT5BccE"
      },
      "execution_count": null,
      "outputs": []
    },
    {
      "cell_type": "code",
      "source": [
        "\n",
        "model = torch.hub.load('pytorch/vision:v0.15.2', 'deeplabv3_resnet101', pretrained=True)\n",
        "model.eval()\n"
      ],
      "metadata": {
        "id": "xlrJ5l5tOq1I"
      },
      "execution_count": null,
      "outputs": []
    },
    {
      "cell_type": "code",
      "source": [
        "import torchvision.transforms as T\n",
        "from PIL import Image\n",
        "import numpy as np\n",
        "\n",
        "transform = T.Compose([T.ToTensor(), T.Normalize(mean=[0.485, 0.456, 0.406],\n",
        "                                               std=[0.229, 0.224, 0.225])])\n",
        "\n",
        "def segment_image(image_path):\n",
        "    img = Image.open(image_path).convert('RGB')\n",
        "    input_tensor = transform(img).unsqueeze(0)\n",
        "    with torch.no_grad():\n",
        "        output = model(input_tensor)['out'][0]\n",
        "    sem_prob = torch.softmax(output, dim=0).cpu().numpy()  # shape: [21, H, W]\n",
        "    return sem_prob\n"
      ],
      "metadata": {
        "id": "s9b5yALJOxEV"
      },
      "execution_count": null,
      "outputs": []
    },
    {
      "cell_type": "code",
      "source": [
        "import numpy as np\n",
        "\n",
        "def project_lidar_to_image(points, calib):\n",
        "    # points: Nx3 array (x,y,z)\n",
        "    # calib: calibration matrix from KITTI\n",
        "    # Return: Nx2 array of pixel coordinates\n",
        "    pts_3d = np.hstack((points, np.ones((points.shape[0],1))))\n",
        "    pts_2d = calib @ pts_3d.T\n",
        "    pts_2d[:2, :] /= pts_2d[2, :]\n",
        "    return pts_2d[:2, :].T  # Nx2 pixel coordinates"
      ],
      "metadata": {
        "id": "sqCt2nLfOyYG"
      },
      "execution_count": null,
      "outputs": []
    }
  ]
}