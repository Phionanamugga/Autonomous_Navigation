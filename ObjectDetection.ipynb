{
  "nbformat": 4,
  "nbformat_minor": 0,
  "metadata": {
    "colab": {
      "provenance": [],
      "gpuType": "V28",
      "authorship_tag": "ABX9TyNM7jPmkTy287QKmpI3VFVH",
      "include_colab_link": true
    },
    "kernelspec": {
      "name": "python3",
      "display_name": "Python 3"
    },
    "language_info": {
      "name": "python"
    },
    "accelerator": "TPU"
  },
  "cells": [
    {
      "cell_type": "markdown",
      "metadata": {
        "id": "view-in-github",
        "colab_type": "text"
      },
      "source": [
        "<a href=\"https://colab.research.google.com/github/Phionanamugga/Autonomous_Navigation/blob/main/ObjectDetection.ipynb\" target=\"_parent\"><img src=\"https://colab.research.google.com/assets/colab-badge.svg\" alt=\"Open In Colab\"/></a>"
      ]
    },
    {
      "cell_type": "code",
      "source": [
        "!wget -c https://s3.eu-central-1.amazonaws.com/avg-kitti/raw_data/2011_10_03_drive_0047/2011_10_03_drive_0047_sync.zip\n"
      ],
      "metadata": {
        "colab": {
          "base_uri": "https://localhost:8080/"
        },
        "id": "gcw_teOI3vL5",
        "outputId": "ca632009-fa07-4409-94ed-d21b840391d6"
      },
      "execution_count": 1,
      "outputs": [
        {
          "output_type": "stream",
          "name": "stdout",
          "text": [
            "--2025-08-11 15:18:47--  https://s3.eu-central-1.amazonaws.com/avg-kitti/raw_data/2011_10_03_drive_0047/2011_10_03_drive_0047_sync.zip\n",
            "Resolving s3.eu-central-1.amazonaws.com (s3.eu-central-1.amazonaws.com)... 3.5.135.51, 3.5.136.90, 52.219.140.31, ...\n",
            "Connecting to s3.eu-central-1.amazonaws.com (s3.eu-central-1.amazonaws.com)|3.5.135.51|:443... connected.\n",
            "HTTP request sent, awaiting response... 200 OK\n",
            "Length: 3103291675 (2.9G) [application/zip]\n",
            "Saving to: ‘2011_10_03_drive_0047_sync.zip’\n",
            "\n",
            "2011_10_03_drive_00 100%[===================>]   2.89G  23.8MB/s    in 2m 5s   \n",
            "\n",
            "2025-08-11 15:20:53 (23.6 MB/s) - ‘2011_10_03_drive_0047_sync.zip’ saved [3103291675/3103291675]\n",
            "\n"
          ]
        }
      ]
    },
    {
      "cell_type": "code",
      "source": [
        "!wget -c https://s3.eu-central-1.amazonaws.com/avg-kitti/raw_data/2011_10_03_calib.zip"
      ],
      "metadata": {
        "colab": {
          "base_uri": "https://localhost:8080/"
        },
        "id": "5SM7RVFf13pQ",
        "outputId": "cabed4c6-6210-46d1-ea62-48402174223e"
      },
      "execution_count": 2,
      "outputs": [
        {
          "output_type": "stream",
          "name": "stdout",
          "text": [
            "--2025-08-11 15:21:06--  https://s3.eu-central-1.amazonaws.com/avg-kitti/raw_data/2011_10_03_calib.zip\n",
            "Resolving s3.eu-central-1.amazonaws.com (s3.eu-central-1.amazonaws.com)... 52.219.47.231, 52.219.169.113, 3.5.134.58, ...\n",
            "Connecting to s3.eu-central-1.amazonaws.com (s3.eu-central-1.amazonaws.com)|52.219.47.231|:443... connected.\n",
            "HTTP request sent, awaiting response... 200 OK\n",
            "Length: 4075 (4.0K) [application/zip]\n",
            "Saving to: ‘2011_10_03_calib.zip’\n",
            "\n",
            "2011_10_03_calib.zi 100%[===================>]   3.98K  --.-KB/s    in 0s      \n",
            "\n",
            "2025-08-11 15:21:07 (285 MB/s) - ‘2011_10_03_calib.zip’ saved [4075/4075]\n",
            "\n"
          ]
        }
      ]
    },
    {
      "cell_type": "code",
      "source": [
        "!unzip -q '*.zip'"
      ],
      "metadata": {
        "colab": {
          "base_uri": "https://localhost:8080/"
        },
        "id": "wcTFponY6yBF",
        "outputId": "c40b613f-0b64-415d-cac4-f1ded75f01eb"
      },
      "execution_count": 3,
      "outputs": [
        {
          "output_type": "stream",
          "name": "stdout",
          "text": [
            "\n",
            "2 archives were successfully processed.\n"
          ]
        }
      ]
    },
    {
      "cell_type": "code",
      "source": [
        "import os\n",
        "from glob import glob\n",
        "import numpy as np\n",
        "import matplotlib.pyplot as plt\n",
        "from PIL import Image\n",
        "import pandas as pd\n",
        "import torch"
      ],
      "metadata": {
        "id": "MROwg6e3uSgf"
      },
      "execution_count": 5,
      "outputs": []
    },
    {
      "cell_type": "code",
      "source": [
        "%matplotlib inline\n",
        "plt.rcParams['figure.figsize'] = (20, 10)"
      ],
      "metadata": {
        "id": "FDoBig6E29pr"
      },
      "execution_count": 6,
      "outputs": []
    },
    {
      "cell_type": "code",
      "source": [
        "!wget https://github.com/itberrios/CV_tracking/raw/main/kitti_tracker/kitti_utils.py"
      ],
      "metadata": {
        "colab": {
          "base_uri": "https://localhost:8080/"
        },
        "id": "ExpcHW5Q3Mwq",
        "outputId": "c96a7f54-cd55-4a44-95b7-28a024bc5324"
      },
      "execution_count": 7,
      "outputs": [
        {
          "output_type": "stream",
          "name": "stdout",
          "text": [
            "--2025-08-11 15:22:29--  https://github.com/itberrios/CV_tracking/raw/main/kitti_tracker/kitti_utils.py\n",
            "Resolving github.com (github.com)... 140.82.114.4\n",
            "Connecting to github.com (github.com)|140.82.114.4|:443... connected.\n",
            "HTTP request sent, awaiting response... 302 Found\n",
            "Location: https://raw.githubusercontent.com/itberrios/CV_tracking/main/kitti_tracker/kitti_utils.py [following]\n",
            "--2025-08-11 15:22:29--  https://raw.githubusercontent.com/itberrios/CV_tracking/main/kitti_tracker/kitti_utils.py\n",
            "Resolving raw.githubusercontent.com (raw.githubusercontent.com)... 185.199.108.133, 185.199.109.133, 185.199.111.133, ...\n",
            "Connecting to raw.githubusercontent.com (raw.githubusercontent.com)|185.199.108.133|:443... connected.\n",
            "HTTP request sent, awaiting response... 200 OK\n",
            "Length: 9759 (9.5K) [text/plain]\n",
            "Saving to: ‘kitti_utils.py’\n",
            "\n",
            "kitti_utils.py      100%[===================>]   9.53K  --.-KB/s    in 0s      \n",
            "\n",
            "2025-08-11 15:22:29 (135 MB/s) - ‘kitti_utils.py’ saved [9759/9759]\n",
            "\n"
          ]
        }
      ]
    },
    {
      "cell_type": "markdown",
      "source": [],
      "metadata": {
        "id": "ZNOm2_613A27"
      }
    },
    {
      "cell_type": "code",
      "source": [
        "DATA_PATH = r'2011_10_03/2011_10_03_drive_0047_sync'\n",
        "# get RGB camera data\n",
        "left_image_paths = sorted(glob(os.path.join(DATA_PATH, 'image_02/data/*png')))\n",
        "right_image_paths = sorted(glob(os.path.join(DATA_PATH, 'image_03/data/*png')))\n",
        "\n",
        "# getting LiDAR data\n",
        "bin_paths = sorted(glob(os.path.join(DATA_PATH, 'velodyne_points/data/*bin')))\n",
        "\n",
        "# Get GPS/IMU data\n",
        "oxts_paths = sorted(glob(os.path.join(DATA_PATH, r'oxts/data/*txt')))\n",
        "\n",
        "print(f'Number of RGB images: {len(left_image_paths)}')\n",
        "print(f'Number of RGB images: {len(right_image_paths)}')\n",
        "print(f'Number of LiDAR points: {len(bin_paths)}')\n",
        "print(f'Number of GPS/IMU data: {len(oxts_paths)}')"
      ],
      "metadata": {
        "colab": {
          "base_uri": "https://localhost:8080/"
        },
        "id": "zUCQmZkl4HBn",
        "outputId": "1887dfda-9a04-4e06-81d1-7cf513287281"
      },
      "execution_count": 8,
      "outputs": [
        {
          "output_type": "stream",
          "name": "stdout",
          "text": [
            "Number of RGB images: 837\n",
            "Number of RGB images: 837\n",
            "Number of LiDAR points: 837\n",
            "Number of GPS/IMU data: 837\n"
          ]
        }
      ]
    },
    {
      "cell_type": "code",
      "source": [
        "# Loading camera calibration data\n",
        "with open('2011_10_03/calib_cam_to_cam.txt', 'r') as f:\n",
        "    calib = f.readlines()\n",
        "\n",
        "# Get projection matrices (rectified left camera ---> left camera (u,v,z))\n",
        "p_rect_cam2 = np.array([float(x) for x in calib[25].strip().split()[1:]]).reshape(3, 4)\n",
        "\n",
        "# Get rectified rotation matrices (left camera ---> rectified left camera)\n",
        "R_ref_rect2 = np.array([float(x) for x in calib[24].strip().split()[1:]]).reshape(3, 3)\n",
        "\n",
        "# Add (0,0,0) translation and convert to homogeneous coordinates\n",
        "R_ref_rect2 = np.insert(R_ref_rect2, 3, values=[0,0,0], axis=1)\n",
        "R_ref_rect2 = np.insert(R_ref_rect2, 3, values=[0,0,0,1], axis=0)\n",
        "\n",
        "# Get rigid transformation from camera 0 (ref) to camera 2\n",
        "R_2 = np.array([float(x) for x in calib[21].strip().split()[1:]]).reshape(3, 3)\n",
        "t_2 = np.array([float(x) for x in calib[22].strip().split()[1:]]).reshape(3, 1)\n",
        "\n",
        "# Get cam0 to cam2 rigid body transformation in homogeneous coordinates\n",
        "T_Cam0_cam2 = np.insert(np.hstack((R_2, t_2)), 3, values=[0,0,0,1], axis=0)"
      ],
      "metadata": {
        "id": "IVo1Yw7yx_Da"
      },
      "execution_count": 10,
      "outputs": []
    },
    {
      "cell_type": "code",
      "source": [
        "def get_rid_transformation(calib_path):\n",
        "    with open(calib_path, 'r') as f:\n",
        "        calib = f.readlines()\n",
        "    R = np.array([float(x) for x in calib[1].strip().split()[1:]]).reshape(3, 3)\n",
        "    t = np.array([float(x) for x in calib[2].strip().split()[1:]])[:,None]\n",
        "\n",
        "    T = np.vstack((np.hstack((R, t)), [0, 0, 0, 1]))\n",
        "    return T\n",
        "    T_velo_ref = get_rid_tranformation(r'2011_10_03/calib_velo_to_cam.txt')\n",
        "    T_velo_imu = get_rid_tranformation(r'2011_10_03/calib_velo_to_imu.txt')\n",
        "\n",
        "    print(\"T_velo_ref (LiDAR to Camera):\\n\", T_velo_ref)\n",
        "    print(\"T_velo_imu (LiDAR to IMU):\\n\", T_velo_imu)\n",
        ""
      ],
      "metadata": {
        "id": "XoHN2uojzjbf"
      },
      "execution_count": 16,
      "outputs": []
    },
    {
      "cell_type": "code",
      "source": [
        "T_velo_ref"
      ],
      "metadata": {
        "colab": {
          "base_uri": "https://localhost:8080/"
        },
        "id": "ndHeU6AR0HVP",
        "outputId": "147ee27b-1f17-49d8-df9d-9b27e103129c"
      },
      "execution_count": 18,
      "outputs": [
        {
          "output_type": "execute_result",
          "data": {
            "text/plain": [
              "array([[ 7.967514e-03, -9.999679e-01, -8.462264e-04, -1.377769e-02],\n",
              "       [-2.771053e-03,  8.241710e-04, -9.999958e-01, -5.542117e-02],\n",
              "       [ 9.999644e-01,  7.969825e-03, -2.764397e-03, -2.918589e-01],\n",
              "       [ 0.000000e+00,  0.000000e+00,  0.000000e+00,  1.000000e+00]])"
            ]
          },
          "metadata": {},
          "execution_count": 18
        }
      ]
    },
    {
      "cell_type": "code",
      "source": [
        "import mmcv\n",
        "print(mmcv.__version__)  # Should print 2.1.0\n",
        "import mmdet\n",
        "import mmdet3d\n",
        "print(mmdet.__version__, mmdet3d.__version__)  # Should print 3.3.0, 1.4.0"
      ],
      "metadata": {
        "id": "lt_AhmoaXI1N"
      },
      "execution_count": null,
      "outputs": []
    },
    {
      "cell_type": "code",
      "source": [
        "from mmdet3d.datasets import build_dataset\n",
        "cfg.data.train.data_root = './data/kitti/'\n",
        "dataset = build_dataset(cfg.data.train)"
      ],
      "metadata": {
        "id": "3P564p55Zc6x"
      },
      "execution_count": null,
      "outputs": []
    },
    {
      "cell_type": "code",
      "source": [],
      "metadata": {
        "id": "8Nxv3MT5BccE"
      },
      "execution_count": null,
      "outputs": []
    },
    {
      "cell_type": "code",
      "source": [
        "\n",
        "model = torch.hub.load('pytorch/vision:v0.15.2', 'deeplabv3_resnet101', pretrained=True)\n",
        "model.eval()\n"
      ],
      "metadata": {
        "id": "xlrJ5l5tOq1I"
      },
      "execution_count": null,
      "outputs": []
    },
    {
      "cell_type": "code",
      "source": [
        "import torchvision.transforms as T\n",
        "from PIL import Image\n",
        "import numpy as np\n",
        "\n",
        "transform = T.Compose([T.ToTensor(), T.Normalize(mean=[0.485, 0.456, 0.406],\n",
        "                                               std=[0.229, 0.224, 0.225])])\n",
        "\n",
        "def segment_image(image_path):\n",
        "    img = Image.open(image_path).convert('RGB')\n",
        "    input_tensor = transform(img).unsqueeze(0)\n",
        "    with torch.no_grad():\n",
        "        output = model(input_tensor)['out'][0]\n",
        "    sem_prob = torch.softmax(output, dim=0).cpu().numpy()  # shape: [21, H, W]\n",
        "    return sem_prob\n"
      ],
      "metadata": {
        "id": "s9b5yALJOxEV"
      },
      "execution_count": null,
      "outputs": []
    },
    {
      "cell_type": "code",
      "source": [
        "import numpy as np\n",
        "\n",
        "def project_lidar_to_image(points, calib):\n",
        "    # points: Nx3 array (x,y,z)\n",
        "    # calib: calibration matrix from KITTI\n",
        "    # Return: Nx2 array of pixel coordinates\n",
        "    pts_3d = np.hstack((points, np.ones((points.shape[0],1))))\n",
        "    pts_2d = calib @ pts_3d.T\n",
        "    pts_2d[:2, :] /= pts_2d[2, :]\n",
        "    return pts_2d[:2, :].T  # Nx2 pixel coordinates"
      ],
      "metadata": {
        "id": "sqCt2nLfOyYG"
      },
      "execution_count": null,
      "outputs": []
    }
  ]
}