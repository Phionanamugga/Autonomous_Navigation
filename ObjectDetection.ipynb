{
  "nbformat": 4,
  "nbformat_minor": 0,
  "metadata": {
    "colab": {
      "provenance": [],
      "gpuType": "V28",
      "authorship_tag": "ABX9TyOi8S4yh81d00td27BXqzk7",
      "include_colab_link": true
    },
    "kernelspec": {
      "name": "python3",
      "display_name": "Python 3"
    },
    "language_info": {
      "name": "python"
    },
    "accelerator": "TPU"
  },
  "cells": [
    {
      "cell_type": "markdown",
      "metadata": {
        "id": "view-in-github",
        "colab_type": "text"
      },
      "source": [
        "<a href=\"https://colab.research.google.com/github/Phionanamugga/Autonomous_Navigation/blob/main/ObjectDetection.ipynb\" target=\"_parent\"><img src=\"https://colab.research.google.com/assets/colab-badge.svg\" alt=\"Open In Colab\"/></a>"
      ]
    },
    {
      "cell_type": "code",
      "source": [
        "!wget -c https://s3.eu-central-1.amazonaws.com/avg-kitti/data_object_image_2.zip\n",
        "!wget -c https://s3.eu-central-1.amazonaws.com/avg-kitti/data_object_label_2.zip\n",
        "!wget -c https://s3.eu-central-1.amazonaws.com/avg-kitti/data_object_velodyne.zip\n",
        "!wget -c https://s3.eu-central-1.amazonaws.com/avg-kitti/data_object_calib.zip"
      ],
      "metadata": {
        "colab": {
          "base_uri": "https://localhost:8080/"
        },
        "id": "gcw_teOI3vL5",
        "outputId": "670481f3-490e-4bd8-bb6c-9974ce0ac557"
      },
      "execution_count": 1,
      "outputs": [
        {
          "output_type": "stream",
          "name": "stdout",
          "text": [
            "--2025-08-09 13:32:49--  https://s3.eu-central-1.amazonaws.com/avg-kitti/data_object_image_2.zip\n",
            "Resolving s3.eu-central-1.amazonaws.com (s3.eu-central-1.amazonaws.com)... 3.5.137.122, 52.219.170.93, 3.5.139.177, ...\n",
            "Connecting to s3.eu-central-1.amazonaws.com (s3.eu-central-1.amazonaws.com)|3.5.137.122|:443... connected.\n",
            "HTTP request sent, awaiting response... 200 OK\n",
            "Length: 12569945557 (12G) [application/zip]\n",
            "Saving to: ‘data_object_image_2.zip’\n",
            "\n",
            "data_object_image_2 100%[===================>]  11.71G  34.6MB/s    in 6m 15s  \n",
            "\n",
            "2025-08-09 13:39:05 (32.0 MB/s) - ‘data_object_image_2.zip’ saved [12569945557/12569945557]\n",
            "\n",
            "--2025-08-09 13:39:05--  https://s3.eu-central-1.amazonaws.com/avg-kitti/data_object_label_2.zip\n",
            "Resolving s3.eu-central-1.amazonaws.com (s3.eu-central-1.amazonaws.com)... 3.5.135.110, 52.219.140.111, 3.5.138.189, ...\n",
            "Connecting to s3.eu-central-1.amazonaws.com (s3.eu-central-1.amazonaws.com)|3.5.135.110|:443... connected.\n",
            "HTTP request sent, awaiting response... 200 OK\n",
            "Length: 5601213 (5.3M) [application/zip]\n",
            "Saving to: ‘data_object_label_2.zip’\n",
            "\n",
            "data_object_label_2 100%[===================>]   5.34M  6.07MB/s    in 0.9s    \n",
            "\n",
            "2025-08-09 13:39:06 (6.07 MB/s) - ‘data_object_label_2.zip’ saved [5601213/5601213]\n",
            "\n",
            "--2025-08-09 13:39:06--  https://s3.eu-central-1.amazonaws.com/avg-kitti/data_object_velodyne.zip\n",
            "Resolving s3.eu-central-1.amazonaws.com (s3.eu-central-1.amazonaws.com)... 3.5.135.110, 52.219.140.111, 3.5.138.189, ...\n",
            "Connecting to s3.eu-central-1.amazonaws.com (s3.eu-central-1.amazonaws.com)|3.5.135.110|:443... connected.\n",
            "HTTP request sent, awaiting response... 200 OK\n",
            "Length: 28750710812 (27G) [application/zip]\n",
            "Saving to: ‘data_object_velodyne.zip’\n",
            "\n",
            "data_object_velodyn 100%[===================>]  26.78G  31.5MB/s    in 15m 34s \n",
            "\n",
            "2025-08-09 13:54:41 (29.3 MB/s) - ‘data_object_velodyne.zip’ saved [28750710812/28750710812]\n",
            "\n",
            "--2025-08-09 13:54:41--  https://s3.eu-central-1.amazonaws.com/avg-kitti/data_object_calib.zip\n",
            "Resolving s3.eu-central-1.amazonaws.com (s3.eu-central-1.amazonaws.com)... 3.5.134.111, 52.219.171.105, 3.5.139.23, ...\n",
            "Connecting to s3.eu-central-1.amazonaws.com (s3.eu-central-1.amazonaws.com)|3.5.134.111|:443... connected.\n",
            "HTTP request sent, awaiting response... 200 OK\n",
            "Length: 26854811 (26M) [application/zip]\n",
            "Saving to: ‘data_object_calib.zip’\n",
            "\n",
            "data_object_calib.z 100%[===================>]  25.61M  16.5MB/s    in 1.6s    \n",
            "\n",
            "2025-08-09 13:54:43 (16.5 MB/s) - ‘data_object_calib.zip’ saved [26854811/26854811]\n",
            "\n"
          ]
        }
      ]
    },
    {
      "cell_type": "code",
      "source": [
        "!unzip -q '*.zip'"
      ],
      "metadata": {
        "colab": {
          "base_uri": "https://localhost:8080/"
        },
        "id": "wcTFponY6yBF",
        "outputId": "f1245934-a24a-46b5-b7b0-30118b2aba94"
      },
      "execution_count": 2,
      "outputs": [
        {
          "output_type": "stream",
          "name": "stdout",
          "text": [
            "\n",
            "4 archives were successfully processed.\n"
          ]
        }
      ]
    },
    {
      "cell_type": "code",
      "source": [
        "import os\n",
        "from glob import glob\n",
        "import numpy as np\n",
        "import matplotlib.pyplot as plt\n",
        "import cv2\n",
        "from PIL import Image\n",
        "import pandas as pd\n",
        "import torch"
      ],
      "metadata": {
        "colab": {
          "base_uri": "https://localhost:8080/",
          "height": 378
        },
        "id": "irhY6V487csY",
        "outputId": "113317f4-f05a-447b-c8a7-cbe1eec26e4b"
      },
      "execution_count": 3,
      "outputs": [
        {
          "output_type": "error",
          "ename": "ModuleNotFoundError",
          "evalue": "No module named 'cv2'",
          "traceback": [
            "\u001b[0;31m---------------------------------------------------------------------------\u001b[0m",
            "\u001b[0;31mModuleNotFoundError\u001b[0m                       Traceback (most recent call last)",
            "\u001b[0;32m/tmp/ipython-input-2607079666.py\u001b[0m in \u001b[0;36m<cell line: 0>\u001b[0;34m()\u001b[0m\n\u001b[1;32m      3\u001b[0m \u001b[0;32mimport\u001b[0m \u001b[0mnumpy\u001b[0m \u001b[0;32mas\u001b[0m \u001b[0mnp\u001b[0m\u001b[0;34m\u001b[0m\u001b[0;34m\u001b[0m\u001b[0m\n\u001b[1;32m      4\u001b[0m \u001b[0;32mimport\u001b[0m \u001b[0mmatplotlib\u001b[0m\u001b[0;34m.\u001b[0m\u001b[0mpyplot\u001b[0m \u001b[0;32mas\u001b[0m \u001b[0mplt\u001b[0m\u001b[0;34m\u001b[0m\u001b[0;34m\u001b[0m\u001b[0m\n\u001b[0;32m----> 5\u001b[0;31m \u001b[0;32mimport\u001b[0m \u001b[0mcv2\u001b[0m\u001b[0;34m\u001b[0m\u001b[0;34m\u001b[0m\u001b[0m\n\u001b[0m\u001b[1;32m      6\u001b[0m \u001b[0;32mfrom\u001b[0m \u001b[0mPIL\u001b[0m \u001b[0;32mimport\u001b[0m \u001b[0mImage\u001b[0m\u001b[0;34m\u001b[0m\u001b[0;34m\u001b[0m\u001b[0m\n\u001b[1;32m      7\u001b[0m \u001b[0;32mimport\u001b[0m \u001b[0mpandas\u001b[0m \u001b[0;32mas\u001b[0m \u001b[0mpd\u001b[0m\u001b[0;34m\u001b[0m\u001b[0;34m\u001b[0m\u001b[0m\n",
            "\u001b[0;31mModuleNotFoundError\u001b[0m: No module named 'cv2'",
            "",
            "\u001b[0;31m---------------------------------------------------------------------------\u001b[0;32m\nNOTE: If your import is failing due to a missing package, you can\nmanually install dependencies using either !pip or !apt.\n\nTo view examples of installing some common dependencies, click the\n\"Open Examples\" button below.\n\u001b[0;31m---------------------------------------------------------------------------\u001b[0m\n"
          ],
          "errorDetails": {
            "actions": [
              {
                "action": "open_url",
                "actionText": "Open Examples",
                "url": "/notebooks/snippets/importing_libraries.ipynb"
              }
            ]
          }
        }
      ]
    },
    {
      "cell_type": "code",
      "source": [
        "%matplotlib inline\n",
        "plt.rcParams['figure.figsize'] = (10, 10)"
      ],
      "metadata": {
        "id": "8Nxv3MT5BccE"
      },
      "execution_count": null,
      "outputs": []
    },
    {
      "cell_type": "code",
      "source": [
        "\n",
        "model = torch.hub.load('pytorch/vision:v0.15.2', 'deeplabv3_resnet101', pretrained=True)\n",
        "model.eval()\n"
      ],
      "metadata": {
        "id": "xlrJ5l5tOq1I"
      },
      "execution_count": null,
      "outputs": []
    },
    {
      "cell_type": "code",
      "source": [
        "import torchvision.transforms as T\n",
        "from PIL import Image\n",
        "import numpy as np\n",
        "\n",
        "transform = T.Compose([T.ToTensor(), T.Normalize(mean=[0.485, 0.456, 0.406],\n",
        "                                               std=[0.229, 0.224, 0.225])])\n",
        "\n",
        "def segment_image(image_path):\n",
        "    img = Image.open(image_path).convert('RGB')\n",
        "    input_tensor = transform(img).unsqueeze(0)\n",
        "    with torch.no_grad():\n",
        "        output = model(input_tensor)['out'][0]\n",
        "    sem_prob = torch.softmax(output, dim=0).cpu().numpy()  # shape: [21, H, W]\n",
        "    return sem_prob\n"
      ],
      "metadata": {
        "id": "s9b5yALJOxEV"
      },
      "execution_count": null,
      "outputs": []
    },
    {
      "cell_type": "code",
      "source": [
        "import numpy as np\n",
        "\n",
        "def project_lidar_to_image(points, calib):\n",
        "    # points: Nx3 array (x,y,z)\n",
        "    # calib: calibration matrix from KITTI\n",
        "    # Return: Nx2 array of pixel coordinates\n",
        "    pts_3d = np.hstack((points, np.ones((points.shape[0],1))))\n",
        "    pts_2d = calib @ pts_3d.T\n",
        "    pts_2d[:2, :] /= pts_2d[2, :]\n",
        "    return pts_2d[:2, :].T  # Nx2 pixel coordinates"
      ],
      "metadata": {
        "id": "sqCt2nLfOyYG"
      },
      "execution_count": null,
      "outputs": []
    }
  ]
}