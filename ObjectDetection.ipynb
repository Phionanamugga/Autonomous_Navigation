{
  "nbformat": 4,
  "nbformat_minor": 0,
  "metadata": {
    "colab": {
      "provenance": [],
      "authorship_tag": "ABX9TyP3OKpG8499hsFDNeA2E4e4",
      "include_colab_link": true
    },
    "kernelspec": {
      "name": "python3",
      "display_name": "Python 3"
    },
    "language_info": {
      "name": "python"
    }
  },
  "cells": [
    {
      "cell_type": "markdown",
      "metadata": {
        "id": "view-in-github",
        "colab_type": "text"
      },
      "source": [
        "<a href=\"https://colab.research.google.com/github/Phionanamugga/Autonomous_Navigation/blob/main/ObjectDetection.ipynb\" target=\"_parent\"><img src=\"https://colab.research.google.com/assets/colab-badge.svg\" alt=\"Open In Colab\"/></a>"
      ]
    },
    {
      "cell_type": "code",
      "source": [
        "!wget -c https://s3.eu-central-1.amazonaws.com/avg-kitti/data_object_image_2.zip\n",
        "!wget -c https://s3.eu-central-1.amazonaws.com/avg-kitti/data_object_label_2.zip\n",
        "!wget -c https://s3.eu-central-1.amazonaws.com/avg-kitti/data_object_velodyne.zip\n",
        "!wget -c https://s3.eu-central-1.amazonaws.com/avg-kitti/data_object_calib.zip"
      ],
      "metadata": {
        "colab": {
          "base_uri": "https://localhost:8080/"
        },
        "id": "gcw_teOI3vL5",
        "outputId": "29aa54cd-494b-417f-c959-7fab9324093d"
      },
      "execution_count": 4,
      "outputs": [
        {
          "output_type": "stream",
          "name": "stdout",
          "text": [
            "--2025-08-09 12:59:29--  https://s3.eu-central-1.amazonaws.com/avg-kitti/data_object_image_2.zip\n",
            "Resolving s3.eu-central-1.amazonaws.com (s3.eu-central-1.amazonaws.com)... 52.219.75.3, 52.219.72.143, 52.219.72.84, ...\n",
            "Connecting to s3.eu-central-1.amazonaws.com (s3.eu-central-1.amazonaws.com)|52.219.75.3|:443... connected.\n",
            "HTTP request sent, awaiting response... 206 Partial Content\n",
            "Length: 12569945557 (12G), 8074528040 (7.5G) remaining [application/zip]\n",
            "Saving to: ‘data_object_image_2.zip’\n",
            "\n",
            "data_object_image_2 100%[+++++++============>]  11.71G  22.8MB/s    in 5m 17s  \n",
            "\n",
            "2025-08-09 13:04:48 (24.3 MB/s) - ‘data_object_image_2.zip’ saved [12569945557/12569945557]\n",
            "\n",
            "--2025-08-09 13:04:48--  https://s3.eu-central-1.amazonaws.com/avg-kitti/data_object_label_2.zip\n",
            "Resolving s3.eu-central-1.amazonaws.com (s3.eu-central-1.amazonaws.com)... 52.219.170.185, 3.5.135.78, 52.219.170.133, ...\n",
            "Connecting to s3.eu-central-1.amazonaws.com (s3.eu-central-1.amazonaws.com)|52.219.170.185|:443... connected.\n",
            "HTTP request sent, awaiting response... 416 Requested Range Not Satisfiable\n",
            "\n",
            "    The file is already fully retrieved; nothing to do.\n",
            "\n",
            "--2025-08-09 13:04:48--  https://s3.eu-central-1.amazonaws.com/avg-kitti/data_object_velodyne.zip\n",
            "Resolving s3.eu-central-1.amazonaws.com (s3.eu-central-1.amazonaws.com)... 52.219.170.185, 3.5.135.78, 52.219.170.133, ...\n",
            "Connecting to s3.eu-central-1.amazonaws.com (s3.eu-central-1.amazonaws.com)|52.219.170.185|:443... connected.\n",
            "HTTP request sent, awaiting response... 206 Partial Content\n",
            "Length: 28750710812 (27G), 28588850041 (27G) remaining [application/zip]\n",
            "Saving to: ‘data_object_velodyne.zip’\n",
            "\n",
            "data_object_velodyn 100%[===================>]  26.78G  25.2MB/s    in 20m 27s \n",
            "\n",
            "2025-08-09 13:25:16 (22.2 MB/s) - ‘data_object_velodyne.zip’ saved [28750710812/28750710812]\n",
            "\n",
            "--2025-08-09 13:25:17--  https://s3.eu-central-1.amazonaws.com/avg-kitti/data_object_calib.zip\n",
            "Resolving s3.eu-central-1.amazonaws.com (s3.eu-central-1.amazonaws.com)... 52.219.170.9, 52.219.75.199, 3.5.139.237, ...\n",
            "Connecting to s3.eu-central-1.amazonaws.com (s3.eu-central-1.amazonaws.com)|52.219.170.9|:443... connected.\n",
            "HTTP request sent, awaiting response... 416 Requested Range Not Satisfiable\n",
            "\n",
            "    The file is already fully retrieved; nothing to do.\n",
            "\n"
          ]
        }
      ]
    },
    {
      "cell_type": "code",
      "source": [
        "!unzip -q '*.zip'"
      ],
      "metadata": {
        "id": "wcTFponY6yBF"
      },
      "execution_count": null,
      "outputs": []
    },
    {
      "cell_type": "code",
      "source": [
        "import os\n",
        "from glob import glob\n",
        "import numpy as np\n",
        "import matplotlib.pyplot as plt\n",
        "import cv2\n",
        "from PIL import Image\n",
        "import pandas as pd\n",
        "import torch"
      ],
      "metadata": {
        "id": "irhY6V487csY"
      },
      "execution_count": null,
      "outputs": []
    },
    {
      "cell_type": "code",
      "source": [
        "\n",
        "model = torch.hub.load('pytorch/vision:v0.15.2', 'deeplabv3_resnet101', pretrained=True)\n",
        "model.eval()\n"
      ],
      "metadata": {
        "id": "xlrJ5l5tOq1I"
      },
      "execution_count": null,
      "outputs": []
    },
    {
      "cell_type": "code",
      "source": [
        "import torchvision.transforms as T\n",
        "from PIL import Image\n",
        "import numpy as np\n",
        "\n",
        "transform = T.Compose([T.ToTensor(), T.Normalize(mean=[0.485, 0.456, 0.406],\n",
        "                                               std=[0.229, 0.224, 0.225])])\n",
        "\n",
        "def segment_image(image_path):\n",
        "    img = Image.open(image_path).convert('RGB')\n",
        "    input_tensor = transform(img).unsqueeze(0)\n",
        "    with torch.no_grad():\n",
        "        output = model(input_tensor)['out'][0]\n",
        "    sem_prob = torch.softmax(output, dim=0).cpu().numpy()  # shape: [21, H, W]\n",
        "    return sem_prob\n"
      ],
      "metadata": {
        "id": "s9b5yALJOxEV"
      },
      "execution_count": null,
      "outputs": []
    },
    {
      "cell_type": "code",
      "source": [
        "import numpy as np\n",
        "\n",
        "def project_lidar_to_image(points, calib):\n",
        "    # points: Nx3 array (x,y,z)\n",
        "    # calib: calibration matrix from KITTI\n",
        "    # Return: Nx2 array of pixel coordinates\n",
        "    pts_3d = np.hstack((points, np.ones((points.shape[0],1))))\n",
        "    pts_2d = calib @ pts_3d.T\n",
        "    pts_2d[:2, :] /= pts_2d[2, :]\n",
        "    return pts_2d[:2, :].T  # Nx2 pixel coordinates"
      ],
      "metadata": {
        "id": "sqCt2nLfOyYG"
      },
      "execution_count": null,
      "outputs": []
    }
  ]
}